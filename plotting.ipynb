{
 "cells": [
  {
   "cell_type": "code",
   "execution_count": 1,
   "id": "5bba6a42-21a9-4909-bea8-4ed7d552b050",
   "metadata": {},
   "outputs": [],
   "source": [
    "import pandas as pd\n",
    "import numpy as np\n",
    "import seaborn as sns\n",
    "import matplotlib.pyplot as plt\n",
    "import warnings\n",
    "warnings.filterwarnings(\"ignore\")"
   ]
  },
  {
   "cell_type": "code",
   "execution_count": 2,
   "id": "53ac378e-120b-4f06-be05-02dbece65b14",
   "metadata": {},
   "outputs": [],
   "source": [
    "import joypy\n",
    "from matplotlib import cm\n",
    "\n",
    "plt.rcParams['font.sans-serif'] = ['Simhei']  #显示中文\n",
    "plt.rcParams['axes.unicode_minus'] = False "
   ]
  },
  {
   "cell_type": "code",
   "execution_count": 3,
   "id": "4b352ba8-0a35-4ba0-9cf0-ae87fa156791",
   "metadata": {},
   "outputs": [],
   "source": [
    "from statsmodels.stats.outliers_influence import variance_inflation_factor\n",
    "from statsmodels.tools.tools import add_constant\n",
    "from plotnine import *"
   ]
  },
  {
   "cell_type": "code",
   "execution_count": 4,
   "id": "ce694189-17f7-4f28-97c3-f8103877d095",
   "metadata": {},
   "outputs": [],
   "source": [
    "class dataplotshow:\n",
    "    def __init__(self, data):\n",
    "        self.data = data\n",
    "    def histplotting(self):\n",
    "        try:\n",
    "            self.data.hist(figsize=(12, 10), bins=31)\n",
    "            plt.tight_layout()\n",
    "            plt.savefig( '变量分布直方图.png')\n",
    "        except AttributeError as e:\n",
    "            print(\"Error:\",e)\n",
    "    def corrplotting(self):\n",
    "        try:\n",
    "            plt.figure(figsize=(12,12))\n",
    "            sns.heatmap(self.data.corr(), center=0,\n",
    "                    square=True, linewidths=.5,annot=True, cbar_kws={\"shrink\": .5},annot_kws={'size': 10}, fmt='.1f')\n",
    "            plt.savefig( '相关系数图1.png')\n",
    "            plt.tight_layout()\n",
    "        except AttributeError as e:\n",
    "            print(\"Error:\",e)\n",
    "    def vifplotting(self):\n",
    "        try:\n",
    "            data1 = add_constant(self.data)\n",
    "            vif = pd.DataFrame()\n",
    "            vif[\"VIF Factor\"] = [variance_inflation_factor(data1.values, i) for i in range(data1.shape[1])]\n",
    "            vif[\"features\"] = data1.columns\n",
    "            vif = vif.sort_values(by='VIF Factor', ascending=True)\n",
    "            vif['features'] = pd.Categorical(vif['features'], categories=vif['features'], ordered=True)\n",
    "            p=(\n",
    "                ggplot(vif, aes('VIF Factor', 'features'))\n",
    "                + geom_segment(aes(x=0, xend='VIF Factor', y='features', yend='features'))\n",
    "                + geom_point(shape='o', size=2, color='k', fill='#FC4E07')\n",
    "                + theme(text=element_text(family=\"SimHei\"))\n",
    "                + scale_x_log10()\n",
    "                + labs(x='VIF')\n",
    "            )\n",
    "            p.save(filename='vif.png',dpi=1000)\n",
    "            print(p)\n",
    "        except:\n",
    "            print(\"Something wrong happened in vifplotting\")\n",
    "    def boxplotting(self,index):\n",
    "        try:\n",
    "            plt.figure(figsize=(12, 10))\n",
    "            sns.boxplot(data=self.data, orient=\"v\")\n",
    "            plt.xticks(range(len(index)),index, rotation=90)\n",
    "            plt.xlabel(\"Features\")\n",
    "            plt.ylabel(\"Value\")\n",
    "            plt.title(\"Boxplot of Features\")\n",
    "            plt.savefig( '箱型图.png')\n",
    "            plt.show()\n",
    "        except AttributeError as e:\n",
    "            print(\"Error:\",e)\n",
    "    "
   ]
  },
  {
   "cell_type": "code",
   "execution_count": 5,
   "id": "738ec13f-c8c2-45d8-b902-1a328dffc642",
   "metadata": {},
   "outputs": [],
   "source": [
    "def corrplotting_sub4(data1,data2,data3,data4):\n",
    "    try:\n",
    "        plt.figure(figsize=(10, 10))\n",
    "        ax1 = plt.subplot(221)\n",
    "        sns.heatmap(data1.corr(),square=True,cbar=0,annot=True,linewidths=.1,fmt='.1f',center=0)\n",
    "        ax2 = plt.subplot(222)\n",
    "        sns.heatmap(data2.corr(),square=True,cbar=0,annot=True,linewidths=.1,fmt='.1f',center=0)\n",
    "        ax3 = plt.subplot(223)\n",
    "        sns.heatmap(data3.corr(),square=True,cbar=0,annot=True,linewidths=.1,fmt='.1f',center=0)\n",
    "        ax4 = plt.subplot(224)\n",
    "        sns.heatmap(data4.corr(),square=True,cbar=0,annot=True,linewidths=.1,fmt='.1f',center=0)\n",
    "        plt.savefig( '相关系数图2.png')\n",
    "        plt.show()\n",
    "    except (AttributeError,TypeError) as e:\n",
    "        print(\"Error:\",e)"
   ]
  },
  {
   "cell_type": "code",
   "execution_count": 6,
   "id": "ddd6448b-541f-414a-b0b1-b45783f84e1a",
   "metadata": {},
   "outputs": [
    {
     "name": "stderr",
     "output_type": "stream",
     "text": [
      "[NbConvertApp] Converting notebook plotting.ipynb to python\n",
      "[NbConvertApp] Writing 3558 bytes to plotting.py\n"
     ]
    }
   ],
   "source": [
    "try:   \n",
    "    !jupyter nbconvert --to python plotting.ipynb\n",
    "    # python即转化为.py，script即转化为.html\n",
    "    # file_name.ipynb即当前module的文件名\n",
    "except:\n",
    "    pass"
   ]
  },
  {
   "cell_type": "code",
   "execution_count": null,
   "id": "79a66b3b-8abf-40ca-83f4-61fb3f812522",
   "metadata": {},
   "outputs": [],
   "source": []
  }
 ],
 "metadata": {
  "kernelspec": {
   "display_name": "Python 3 (ipykernel)",
   "language": "python",
   "name": "python3"
  },
  "language_info": {
   "codemirror_mode": {
    "name": "ipython",
    "version": 3
   },
   "file_extension": ".py",
   "mimetype": "text/x-python",
   "name": "python",
   "nbconvert_exporter": "python",
   "pygments_lexer": "ipython3",
   "version": "3.11.5"
  }
 },
 "nbformat": 4,
 "nbformat_minor": 5
}
